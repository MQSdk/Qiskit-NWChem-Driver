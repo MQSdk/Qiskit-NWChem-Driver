{
 "cells": [
  {
   "cell_type": "markdown",
   "metadata": {},
   "source": [
    "#### Code for NWchem-Qiskit Driver\n",
    "##### 1. import package"
   ]
  },
  {
   "cell_type": "code",
   "execution_count": 42,
   "metadata": {},
   "outputs": [],
   "source": [
    "import os \n",
    "import sys\n",
    "import yaml\n",
    "import os\n",
    "from qiskit_nature_qe import nwchem_driver\n",
    "from qiskit_algorithms import NumPyMinimumEigensolver\n",
    "from qiskit_nature.second_q.mappers import JordanWignerMapper\n",
    "from qiskit_nature.second_q.algorithms import GroundStateEigensolver\n",
    "from qiskit.exceptions import QiskitError\n",
    "from qiskit_algorithms import VQE\n",
    "from qiskit_algorithms.optimizers import SLSQP\n",
    "from qiskit.primitives import Estimator\n",
    "from qiskit_nature.second_q.circuit.library import HartreeFock, UCCSD, UCC\n",
    "import numpy as np\n",
    "from nwchem2yaml import extract_fields"
   ]
  },
  {
   "cell_type": "code",
   "execution_count": 43,
   "metadata": {},
   "outputs": [],
   "source": [
    "# data_dir = os.path.join(\"qe_files\", \"n2\", \"output\")\n",
    "# datafile = os.path.join(data_dir, \"demo.out\")\n",
    "# data_file_yaml = os.path.join(data_dir, \"demo.yaml\")\n",
    "\n",
    "data_dir = os.path.join(\"qe_files\", \"3x3_periodic\", \"NWChem\",'1covo')\n",
    "datafile = os.path.join(data_dir, \"H1Li1-7.0.out\")\n",
    "data_file_yaml = os.path.join(data_dir, \"H1Li1-7.0.yaml\")"
   ]
  },
  {
   "cell_type": "markdown",
   "metadata": {},
   "source": [
    "##### 2. nwchem output to yaml"
   ]
  },
  {
   "cell_type": "code",
   "execution_count": 44,
   "metadata": {},
   "outputs": [],
   "source": [
    "data = extract_fields(datafile)\n",
    "with open(data_file_yaml, 'w') as f:\n",
    "    f.write(yaml.dump(data, default_flow_style=False)) "
   ]
  },
  {
   "cell_type": "markdown",
   "metadata": {},
   "source": [
    "##### 3. data to Qiskit electron structure problem class"
   ]
  },
  {
   "cell_type": "code",
   "execution_count": 45,
   "metadata": {},
   "outputs": [
    {
     "name": "stdout",
     "output_type": "stream",
     "text": [
      "h_ij up-down equal: True\n",
      "eri up-down equal: True\n",
      "eri up-(down-up) equal: False\n",
      "eri (up-down)-(down-up) equal: True\n"
     ]
    }
   ],
   "source": [
    "driver = nwchem_driver.NWchem_Driver(data_file_yaml)\n",
    "es_problem = driver.run()\n",
    "# hamiltonian  = es_problem.hamiltonian\n",
    "# print(hamiltonian.second_q_op())"
   ]
  },
  {
   "cell_type": "markdown",
   "metadata": {},
   "source": [
    "##### 4. Mapping Hamiltonian to qubit"
   ]
  },
  {
   "cell_type": "code",
   "execution_count": 46,
   "metadata": {},
   "outputs": [],
   "source": [
    "mapper = JordanWignerMapper()"
   ]
  },
  {
   "cell_type": "markdown",
   "metadata": {},
   "source": [
    "##### 5. specify ansatz"
   ]
  },
  {
   "cell_type": "code",
   "execution_count": 47,
   "metadata": {},
   "outputs": [],
   "source": [
    "ansatz = UCCSD(\n",
    "        es_problem.num_spatial_orbitals,\n",
    "        es_problem.num_particles,\n",
    "        mapper,\n",
    "        initial_state=HartreeFock(\n",
    "            es_problem.num_spatial_orbitals,\n",
    "            es_problem.num_particles,\n",
    "            mapper,\n",
    "        ),\n",
    "    )"
   ]
  },
  {
   "cell_type": "markdown",
   "metadata": {},
   "source": [
    "##### 6. Constructing VQE and check results "
   ]
  },
  {
   "cell_type": "code",
   "execution_count": 48,
   "metadata": {},
   "outputs": [
    {
     "name": "stdout",
     "output_type": "stream",
     "text": [
      "=== GROUND STATE ENERGY ===\n",
      " \n",
      "* Electronic ground state energy (Hartree): -0.60728322838\n",
      "  - computed part:      -0.60728322838\n",
      "~ Nuclear repulsion energy (Hartree): -0.1028054491\n",
      "> Total ground state energy (Hartree): -0.71008867748\n",
      "> Total energy from HF (Hartree):-0.591167016\n"
     ]
    }
   ],
   "source": [
    "vqe_solver = VQE(Estimator(), ansatz, SLSQP())\n",
    "# vqe_solver.initial_point = [0.0] * ansatz.num_parameters\n",
    "vqe_solver.initial_point = np.random.rand(ansatz.num_parameters)\n",
    "calc = GroundStateEigensolver(mapper, vqe_solver)\n",
    "res = calc.solve(es_problem)\n",
    "print(res)\n",
    "print('> Total energy from HF (Hartree):{}'.format(driver.total_energy))"
   ]
  },
  {
   "cell_type": "code",
   "execution_count": null,
   "metadata": {},
   "outputs": [],
   "source": []
  }
 ],
 "metadata": {
  "kernelspec": {
   "display_name": "project_practice",
   "language": "python",
   "name": "python3"
  },
  "language_info": {
   "codemirror_mode": {
    "name": "ipython",
    "version": 3
   },
   "file_extension": ".py",
   "mimetype": "text/x-python",
   "name": "python",
   "nbconvert_exporter": "python",
   "pygments_lexer": "ipython3",
   "version": "3.11.9"
  }
 },
 "nbformat": 4,
 "nbformat_minor": 2
}
