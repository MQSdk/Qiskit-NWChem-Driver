{
 "cells": [
  {
   "cell_type": "code",
   "execution_count": 3,
   "id": "72633122-74e0-49e6-bd5f-28bee6afc1d1",
   "metadata": {},
   "outputs": [
    {
     "name": "stdout",
     "output_type": "stream",
     "text": [
      "Cantidad total de números en el archivo: 2783200\n",
      "Cantidad de números distintos de 0: 390971\n"
     ]
    }
   ],
   "source": [
    "import numpy as np\n",
    "\n",
    "# Cargar los datos ignorando líneas vacías\n",
    "data = np.loadtxt(\"pspw_hf_LiH_2_emovecs-Copy1.ascii\")\n",
    "\n",
    "# Contar los números diferentes de cero\n",
    "nonzero_count = np.count_nonzero(data)\n",
    "total_numbers = data.size\n",
    "\n",
    "print(\"Cantidad total de números en el archivo:\", total_numbers)\n",
    "print(\"Cantidad de números distintos de 0:\", nonzero_count)"
   ]
  },
  {
   "cell_type": "code",
   "execution_count": null,
   "id": "a8526dd6-d56d-44e2-8991-59b1ead2f88e",
   "metadata": {},
   "outputs": [],
   "source": [
    "import os\n",
    "\n",
    "file_size = os.path.getsize(\"pspw_hf_LiH.movecs\")\n",
    "print(f\"Tamaño del archivo: {file_size} bytes\")"
   ]
  }
 ],
 "metadata": {
  "kernelspec": {
   "display_name": "Python 3 (ipykernel)",
   "language": "python",
   "name": "python3"
  },
  "language_info": {
   "codemirror_mode": {
    "name": "ipython",
    "version": 3
   },
   "file_extension": ".py",
   "mimetype": "text/x-python",
   "name": "python",
   "nbconvert_exporter": "python",
   "pygments_lexer": "ipython3",
   "version": "3.10.15"
  }
 },
 "nbformat": 4,
 "nbformat_minor": 5
}
